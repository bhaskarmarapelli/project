{
  "nbformat": 4,
  "nbformat_minor": 0,
  "metadata": {
    "colab": {
      "provenance": [],
      "toc_visible": true
    },
    "kernelspec": {
      "name": "python3",
      "display_name": "Python 3"
    },
    "language_info": {
      "name": "python"
    }
  },
  "cells": [
    {
      "cell_type": "markdown",
      "source": [
        "##Python\n",
        "is a high-level, general-purpose programming language that\n",
        "emphasizes code readability and supports multiple programming paradigms, including structured (particularly procedural), object-oriented, and functional programming"
      ],
      "metadata": {
        "id": "OIUToh5OThsf"
      }
    },
    {
      "cell_type": "markdown",
      "source": [
        "1. Python is a general-purpose, high-level programming language. This means that it can be used to\n",
        "create a wide variety of programs, from simple scripts to complex applications.\n",
        "2. Python is a dynamically typed language. This means that the type of a variable is not declared\n",
        "explicitly. Instead, the type of a variable is inferred from the value that is assigned to it.\n",
        "3. Python is an interpreted language. This means that the code is not compiled into machine code\n",
        "before it is executed. Instead, the interpreter reads the code line by line and executes it immediately.\n",
        "4. Python has a simple and easy-to-learn syntax. This makes it a good language for beginners to learn.\n",
        "5. Python has a large standard library. This means that there are many built-in functions and modules\n",
        "that can be used to perform common tasks.\n",
        "6. Python is a popular language for data science and machine learning. This is because it has a number\n",
        "of libraries that are specifically designed for these tasks."
      ],
      "metadata": {
        "id": "Ypoq10DnTorr"
      }
    },
    {
      "cell_type": "markdown",
      "source": [
        "# **1.INTERPRETER VS. COMPILER**"
      ],
      "metadata": {
        "id": "UD1Ngfz-UKSW"
      }
    },
    {
      "cell_type": "markdown",
      "source": [
        "* An interpreter reads the code line by line and executes it immediately. This\n",
        "means that the interpreter\n",
        "does not need to create a separate machine code file. This makes interpreters faster to execute, but it also\n",
        "means that they cannot optimize the code as much as a compiler can.\n",
        "* A compiler reads the entire code and translates it into machine code all at once. This means that the\n",
        "compiler can optimize the code for better performance. However, it also means that compilers take longer\n",
        "to execute than interpreters.\n",
        "* Python is an interpreted language, but it can also be compiled to bytecode, which can then be executed by\n",
        "a virtual machine."
      ],
      "metadata": {
        "id": "blAh4QUGUOq2"
      }
    },
    {
      "cell_type": "code",
      "source": [
        "# Your Python code is executed line by line\n",
        "print(\"Hello, World!\")  # This line is executed first\n"
      ],
      "metadata": {
        "colab": {
          "base_uri": "https://localhost:8080/"
        },
        "id": "F2OeeZxcUZmW",
        "outputId": "04b5e19b-18bc-4de6-b8f6-390622350c83"
      },
      "execution_count": null,
      "outputs": [
        {
          "output_type": "stream",
          "name": "stdout",
          "text": [
            "Hello, World!\n"
          ]
        }
      ]
    },
    {
      "cell_type": "code",
      "source": [
        "# This is a simple Python script with multiple lines.\n",
        "\n",
        "print(\"This is the first line.\")\n",
        "print(\"This is the second line.\")\n",
        "print(\"This is the third line.\")"
      ],
      "metadata": {
        "colab": {
          "base_uri": "https://localhost:8080/"
        },
        "id": "IpLv_rczUsCY",
        "outputId": "c6842c96-a269-4ed1-a45d-988d3c141829"
      },
      "execution_count": null,
      "outputs": [
        {
          "output_type": "stream",
          "name": "stdout",
          "text": [
            "This is the first line.\n",
            "This is the second line.\n",
            "This is the third line.\n"
          ]
        }
      ]
    },
    {
      "cell_type": "markdown",
      "source": [
        "## **Hello World Using a function**\n",
        "\n",
        "* In Python, you can define a function using the def keyword followed by the function name, parentheses for parameters (if any), and a colon.\n",
        "* The function body is indented below the def statement.\n",
        "\n",
        "* Here's the basic syntax:\n"
      ],
      "metadata": {
        "id": "Uo2y7Qm5EAMI"
      }
    },
    {
      "cell_type": "code",
      "source": [
        "def function_name(parameters):\n",
        "    # Function body\n",
        "    # Code here\n",
        "    return result  # Optional return statement\n"
      ],
      "metadata": {
        "id": "RgpumkyCER8o"
      },
      "execution_count": null,
      "outputs": []
    },
    {
      "cell_type": "markdown",
      "source": [
        "Here's an example of a simple Python function:"
      ],
      "metadata": {
        "id": "fSIU-Ml8EUZW"
      }
    },
    {
      "cell_type": "code",
      "source": [
        "def greet(name):\n",
        "    \"\"\"This function greets the person passed in as 'name'.\"\"\"\n",
        "    message = f\"Hello, {name}!\"\n",
        "    return message\n",
        "greet('bhaskar')"
      ],
      "metadata": {
        "colab": {
          "base_uri": "https://localhost:8080/",
          "height": 35
        },
        "id": "K9QKJ_sgEcVx",
        "outputId": "d3c0fbd0-8467-4b95-8de1-7e47411c0884"
      },
      "execution_count": null,
      "outputs": [
        {
          "output_type": "execute_result",
          "data": {
            "text/plain": [
              "'Hello, bhaskar!'"
            ],
            "application/vnd.google.colaboratory.intrinsic+json": {
              "type": "string"
            }
          },
          "metadata": {},
          "execution_count": 1
        }
      ]
    },
    {
      "cell_type": "code",
      "source": [
        "result = greet(\"bhaksar\")\n",
        "print(result)  # Output: \"Hello, Alice!\"\n"
      ],
      "metadata": {
        "colab": {
          "base_uri": "https://localhost:8080/"
        },
        "id": "2xkTXEPYEnnb",
        "outputId": "bda4f8c6-1eaa-4f00-8ef5-51c4c0ca4361"
      },
      "execution_count": null,
      "outputs": [
        {
          "output_type": "stream",
          "name": "stdout",
          "text": [
            "Hello, bhaksar!\n"
          ]
        }
      ]
    },
    {
      "cell_type": "markdown",
      "source": [
        "* To call a function in the main section of a Python script, you need to define your function and then call it from within the main section.\n",
        "\n",
        "* Here's an example:"
      ],
      "metadata": {
        "id": "9TlDP3HkE_mR"
      }
    },
    {
      "cell_type": "code",
      "source": [
        "# Define a function\n",
        "def greet(name):\n",
        "    \"\"\"This function greets the person passed in as 'name'.\"\"\"\n",
        "    message = f\"Hello, {name}!\"\n",
        "    return message\n",
        "\n",
        "# Main section\n",
        "if __name__ == \"__main__\":\n",
        "    # Code in this section will be executed when the script is run\n",
        "\n",
        "    # Call the 'greet' function\n",
        "    result = greet(\"Bhaskar\")\n",
        "\n",
        "    # Print the result\n",
        "    print(result)"
      ],
      "metadata": {
        "colab": {
          "base_uri": "https://localhost:8080/"
        },
        "id": "Tw8Yuq4AFEut",
        "outputId": "389b47c6-c5eb-499a-f207-d8e06c1fdd61"
      },
      "execution_count": null,
      "outputs": [
        {
          "output_type": "stream",
          "name": "stdout",
          "text": [
            "Hello, Bhaskar!\n"
          ]
        }
      ]
    },
    {
      "cell_type": "markdown",
      "source": [
        "In this example:\n",
        "\n",
        "1. We define the greet function as shown in the previous explanation.\n",
        "\n",
        "2. We have a main section that is executed when the script is run. The if __name__ == \"__main__\": condition ensures that the code inside this block is only executed when the script is run directly (not when it's imported as a module).\n",
        "\n",
        "3. Within the main section, we call the greet function with the argument \"Bhaskar\" and store the result in the result variable.\n",
        "\n",
        "4. Finally, we print the result, which will display the greeting message \"Hello, Bhaskar!\" on the console."
      ],
      "metadata": {
        "id": "T1KIUSofFQGO"
      }
    },
    {
      "cell_type": "markdown",
      "source": [
        "## \"Hello, World!\" program with a separate file for a function"
      ],
      "metadata": {
        "id": "WiPXXoZcGOnl"
      }
    },
    {
      "cell_type": "code",
      "source": [
        "%%writefile helloworld.py\n",
        "def greet(name):\n",
        "    \"\"\"This function greets the person passed in as 'name'.\"\"\"\n",
        "    message = f\"Hello, {name}!\"\n",
        "    return message"
      ],
      "metadata": {
        "colab": {
          "base_uri": "https://localhost:8080/"
        },
        "id": "FHhXmftDGRMW",
        "outputId": "769b6a48-2f70-417d-d81a-8190bb3deee3"
      },
      "execution_count": null,
      "outputs": [
        {
          "output_type": "stream",
          "name": "stdout",
          "text": [
            "Writing helloworld.py\n"
          ]
        }
      ]
    },
    {
      "cell_type": "code",
      "source": [
        "%%writefile main.py\n",
        "# main.py\n",
        "import helloworld  # Import the module containing your function\n",
        "\n",
        "if __name__ == \"__main__\":\n",
        "    # Call the 'greet' function from myfunctions module\n",
        "    result = helloworld.greet(\"Bhaskar\")\n",
        "\n",
        "    # Print the result\n",
        "    print(result)"
      ],
      "metadata": {
        "colab": {
          "base_uri": "https://localhost:8080/"
        },
        "id": "R1z9-4OeFCev",
        "outputId": "ebf1e42b-20a8-4726-ccee-10abd58c1eb7"
      },
      "execution_count": null,
      "outputs": [
        {
          "output_type": "stream",
          "name": "stdout",
          "text": [
            "Overwriting main.py\n"
          ]
        }
      ]
    },
    {
      "cell_type": "code",
      "source": [
        "!python main.py"
      ],
      "metadata": {
        "colab": {
          "base_uri": "https://localhost:8080/"
        },
        "id": "65wj44swGxFH",
        "outputId": "ea5635f6-947c-4798-b3f0-9b7777967579"
      },
      "execution_count": null,
      "outputs": [
        {
          "output_type": "stream",
          "name": "stdout",
          "text": [
            "Hello, Bhaskar!\n"
          ]
        }
      ]
    },
    {
      "cell_type": "markdown",
      "source": [
        " INDENTATION RULE USING A SEMICOLON"
      ],
      "metadata": {
        "id": "X5P21PuuVCkv"
      }
    },
    {
      "cell_type": "markdown",
      "source": [
        "In Python, indentation is used to indicate the scope of blocks of code. The standard indentation rule is to\n",
        "use four spaces for each level of indentation.\n",
        "There is no indentation rule using a semicolon in Python. In fact, using a semicolon to indent code is\n",
        "considered bad practice and can lead to errors"
      ],
      "metadata": {
        "id": "Ggzwf7r1VOqM"
      }
    },
    {
      "cell_type": "markdown",
      "source": [
        "The following is an example of incorrect indentation in Python:"
      ],
      "metadata": {
        "id": "d_ePKjkqVjyD"
      }
    },
    {
      "cell_type": "code",
      "source": [
        "if True:\n",
        "    print(\"This is indented properly\")\n",
        "else:\n",
        "print(\"This will result in an error\")\n"
      ],
      "metadata": {
        "id": "DVrt6H-fV3iE"
      },
      "execution_count": null,
      "outputs": []
    },
    {
      "cell_type": "markdown",
      "source": [
        "The following is an example of correct indentation in Python:"
      ],
      "metadata": {
        "id": "4E2chv_-V7XJ"
      }
    },
    {
      "cell_type": "code",
      "source": [
        "def factorial(n):\n",
        "  if n == 0:\n",
        "    return 1\n",
        "  else:\n",
        "    return n * factorial(n - 1)\n",
        "\n",
        "print(factorial(5))\n"
      ],
      "metadata": {
        "id": "JquNTdqOWEIy"
      },
      "execution_count": null,
      "outputs": []
    },
    {
      "cell_type": "markdown",
      "source": [
        "The following is an example of incorrect indentation in Python:\n"
      ],
      "metadata": {
        "id": "AskYDUFYWIcK"
      }
    },
    {
      "cell_type": "code",
      "source": [
        "def factorial(n);\n",
        "  if n == 0:\n",
        "    return 1\n",
        "  else:\n",
        "    return n * factorial(n - 1);\n",
        "\n",
        "print(factorial(5));"
      ],
      "metadata": {
        "id": "AWs31WzZWRNc"
      },
      "execution_count": null,
      "outputs": []
    },
    {
      "cell_type": "markdown",
      "source": [
        "# **2.IMPORTANT KEYWORDS**"
      ],
      "metadata": {
        "id": "X_xoeUiXWYaq"
      }
    },
    {
      "cell_type": "code",
      "execution_count": null,
      "metadata": {
        "colab": {
          "base_uri": "https://localhost:8080/"
        },
        "id": "6nXGfi5xSFsc",
        "outputId": "7e5c1f9f-b792-4594-fb2a-b666ac83b8eb"
      },
      "outputs": [
        {
          "output_type": "stream",
          "name": "stdout",
          "text": [
            "The set of keywords in this version is: \n",
            "['False', 'None', 'True', 'and', 'as', 'assert', 'async', 'await', 'break', 'class', 'continue', 'def', 'del', 'elif', 'else', 'except', 'finally', 'for', 'from', 'global', 'if', 'import', 'in', 'is', 'lambda', 'nonlocal', 'not', 'or', 'pass', 'raise', 'return', 'try', 'while', 'with', 'yield']\n",
            "35\n"
          ]
        }
      ],
      "source": [
        "# Python program to demonstrate the application of iskeyword()\n",
        "# importing keyword library which has lists\n",
        "import keyword\n",
        "\n",
        "# displaying the complete list using \"kwlist().\"\n",
        "print(\"The set of keywords in this version is: \")\n",
        "print( keyword.kwlist )\n",
        "print( len(keyword.kwlist) )"
      ]
    },
    {
      "cell_type": "markdown",
      "source": [
        "1. pass: The pass keyword is a placeholder for code that is not yet written. It is often used as a\n",
        "placeholder for a function body or a loop body.\n",
        "2. yield: The yield keyword is used to create generators. Generators are iterators that can be used to\n",
        "produce a sequence of values one at a time.\n",
        "3. return: The return keyword is used to exit a function and return a value.\n",
        "4. del: The del keyword is used to delete a variable or object.\n",
        "5. None: The None keyword is a special value that represents the absence of a value.\n",
        "6. global: The global keyword is used to declare a variable as global. This means that the variable can\n",
        "be accessed from anywhere in the program.\n"
      ],
      "metadata": {
        "id": "8olq9kw3WnK8"
      }
    },
    {
      "cell_type": "markdown",
      "source": [
        "##pass\n",
        "This function does nothing yet, but it is a placeholder for the code that will be written later."
      ],
      "metadata": {
        "id": "MZmBOWByZTWb"
      }
    },
    {
      "cell_type": "code",
      "source": [
        "def factorial(n):\n",
        "  pass\n"
      ],
      "metadata": {
        "id": "v5-30ltQS6hV"
      },
      "execution_count": null,
      "outputs": []
    },
    {
      "cell_type": "markdown",
      "source": [
        "##yield"
      ],
      "metadata": {
        "id": "UuL0fvOtZci8"
      }
    },
    {
      "cell_type": "code",
      "source": [
        "def simpleGeneratorFun():\n",
        "    yield 1\n",
        "    yield 2\n",
        "    yield 3\n",
        "\n",
        "\n",
        "# Driver code to check above generator function\n",
        "for value in simpleGeneratorFun():\n",
        "    print(value)"
      ],
      "metadata": {
        "colab": {
          "base_uri": "https://localhost:8080/"
        },
        "id": "a1AK5T5dLAw4",
        "outputId": "3cb22508-7607-466c-e8d3-7d2a856602c8"
      },
      "execution_count": null,
      "outputs": [
        {
          "output_type": "stream",
          "name": "stdout",
          "text": [
            "1\n",
            "2\n",
            "3\n"
          ]
        }
      ]
    },
    {
      "cell_type": "code",
      "source": [
        "def factorial_generator(n):\n",
        "  \"\"\"Yields the factorials of the numbers from 1 to n.\"\"\"\n",
        "  if n == 0:\n",
        "    yield 1\n",
        "  else:\n",
        "    result = 1\n",
        "    for i in range(1, n + 1):\n",
        "      result *= i\n",
        "      yield result\n"
      ],
      "metadata": {
        "id": "uwgGDiqiTQFq"
      },
      "execution_count": null,
      "outputs": []
    },
    {
      "cell_type": "code",
      "source": [
        "for i in factorial_generator(5):\n",
        "  print(i)\n"
      ],
      "metadata": {
        "colab": {
          "base_uri": "https://localhost:8080/"
        },
        "id": "8xvF3cPvXO4k",
        "outputId": "525e9748-806e-449c-e494-6a0b3fc0c8d1"
      },
      "execution_count": null,
      "outputs": [
        {
          "output_type": "stream",
          "name": "stdout",
          "text": [
            "1\n",
            "2\n",
            "6\n",
            "24\n",
            "120\n"
          ]
        }
      ]
    },
    {
      "cell_type": "markdown",
      "source": [
        "##return:"
      ],
      "metadata": {
        "id": "j1kd0aIQZuON"
      }
    },
    {
      "cell_type": "code",
      "source": [
        "def factorial(n):\n",
        "  if n == 0:\n",
        "    return 1\n",
        "  else:\n",
        "    return n * factorial(n - 1)\n"
      ],
      "metadata": {
        "id": "qAbqWsD4YDVv"
      },
      "execution_count": null,
      "outputs": []
    },
    {
      "cell_type": "markdown",
      "source": [
        "##del"
      ],
      "metadata": {
        "id": "BWQ4CfNsZwiC"
      }
    },
    {
      "cell_type": "code",
      "source": [
        "a = 10\n",
        "\n",
        "del a\n"
      ],
      "metadata": {
        "id": "xEw2OMMpYKR7"
      },
      "execution_count": null,
      "outputs": []
    },
    {
      "cell_type": "markdown",
      "source": [
        "##None"
      ],
      "metadata": {
        "id": "lnOCCYpCZysb"
      }
    },
    {
      "cell_type": "code",
      "source": [
        "a = None\n",
        "\n",
        "print(a)\n"
      ],
      "metadata": {
        "id": "pKJ-BKTBYPKY"
      },
      "execution_count": null,
      "outputs": []
    },
    {
      "cell_type": "markdown",
      "source": [
        "##global\n",
        "This code prints the value of a, which is 20. The variable a is declared as global in the function f(), so the change to the value of a in f() is reflected in the global scope."
      ],
      "metadata": {
        "id": "jIsONrXFZBBb"
      }
    },
    {
      "cell_type": "code",
      "source": [
        "a = 10\n",
        "\n",
        "def f():\n",
        "  global a\n",
        "  print(a)\n",
        "  a = 20\n",
        "print(a)\n",
        "f()\n",
        "print(a)\n"
      ],
      "metadata": {
        "colab": {
          "base_uri": "https://localhost:8080/"
        },
        "id": "lqhtUdNoYRwQ",
        "outputId": "c87b5524-f751-43b4-fd2d-2342735fb8a4"
      },
      "execution_count": null,
      "outputs": [
        {
          "output_type": "stream",
          "name": "stdout",
          "text": [
            "10\n",
            "10\n",
            "20\n"
          ]
        }
      ]
    },
    {
      "cell_type": "markdown",
      "source": [
        "#**Variables**:\n",
        "Variables are used to store data values. In Python, you can declare a variable and assign a value to it in a single line."
      ],
      "metadata": {
        "id": "OHpVywoH57wO"
      }
    },
    {
      "cell_type": "code",
      "source": [
        "x = 10        # Integer variable\n",
        "y = 3.14      # Float variable\n",
        "name = \"John\" # String variable\n",
        "print(x)\n",
        "print(y)\n",
        "print(name)"
      ],
      "metadata": {
        "colab": {
          "base_uri": "https://localhost:8080/"
        },
        "id": "Wbrmcf9b369Q",
        "outputId": "d2101379-78a7-4953-c711-47cf912edaa8"
      },
      "execution_count": null,
      "outputs": [
        {
          "output_type": "stream",
          "name": "stdout",
          "text": [
            "10\n",
            "3.14\n",
            "John\n"
          ]
        }
      ]
    },
    {
      "cell_type": "markdown",
      "source": [
        "# **3.Operators**"
      ],
      "metadata": {
        "id": "Jl39Z8t5Z2YE"
      }
    },
    {
      "cell_type": "markdown",
      "source": [
        "##Arithmetic Operators:\n",
        "\n",
        "Addition: +\n",
        "\n",
        "Subtraction: -\n",
        "\n",
        "Multiplication: *\n",
        "\n",
        "Division: /\n",
        "\n",
        "Modulus: %\n",
        "\n",
        "Exponentiation: **\n",
        "\n",
        "Floor Division: //"
      ],
      "metadata": {
        "id": "lH-xX2ti6ZV6"
      }
    },
    {
      "cell_type": "code",
      "source": [
        "a = 10\n",
        "b = 3\n",
        "result_addition = a + b\n",
        "result_division = a / b\n",
        "print(result_addition )\n",
        "print(result_division)"
      ],
      "metadata": {
        "colab": {
          "base_uri": "https://localhost:8080/"
        },
        "id": "ADOSuB0z6q7z",
        "outputId": "6bcac0f9-b6e3-4e00-a7a7-e2556a03ff11"
      },
      "execution_count": null,
      "outputs": [
        {
          "output_type": "stream",
          "name": "stdout",
          "text": [
            "13\n",
            "3.3333333333333335\n"
          ]
        }
      ]
    },
    {
      "cell_type": "markdown",
      "source": [
        "## Comparison Operators:\n",
        "\n",
        "Equal to: ==\n",
        "\n",
        "Not equal to: !=\n",
        "\n",
        "Greater than: >\n",
        "\n",
        "Less than: <\n",
        "\n",
        "Greater than or equal to: >=\n",
        "\n",
        "Less than or equal to: <="
      ],
      "metadata": {
        "id": "cYl39e6k6cAb"
      }
    },
    {
      "cell_type": "code",
      "source": [
        "x = 5\n",
        "y = 8\n",
        "is_equal = x == y\n",
        "print(is_equal)"
      ],
      "metadata": {
        "colab": {
          "base_uri": "https://localhost:8080/"
        },
        "id": "I-M5tk077AXW",
        "outputId": "5aeb8cad-d3b2-4da6-f61c-4162729f04d3"
      },
      "execution_count": null,
      "outputs": [
        {
          "output_type": "stream",
          "name": "stdout",
          "text": [
            "False\n"
          ]
        }
      ]
    },
    {
      "cell_type": "markdown",
      "source": [
        "## **Unary and Binary Operators**\n",
        "\n",
        "Python supports various operators for arithmetic operations:"
      ],
      "metadata": {
        "id": "80xGnVj1aDHb"
      }
    },
    {
      "cell_type": "code",
      "source": [
        "x = 5\n",
        "y = -x  # Unary negation operator\n",
        "\n",
        "a = 10\n",
        "b = 20\n",
        "result = a + b  # Binary addition operator\n"
      ],
      "metadata": {
        "id": "GgbUhmRlZ8cJ"
      },
      "execution_count": null,
      "outputs": []
    },
    {
      "cell_type": "code",
      "source": [
        "# This program performs various arithmetic operations.\n",
        "\n",
        "x = 5\n",
        "y = 10\n",
        "\n",
        "# Unary negation operator\n",
        "z = -x\n",
        "print(z)  # This will print -5\n",
        "\n",
        "# Binary addition operator\n",
        "w = x + y\n",
        "print(w)  # This will print 15\n",
        "\n",
        "# Binary subtraction operator\n",
        "v = y - x\n",
        "print(v)  # This will print 5\n",
        "\n",
        "# Binary multiplication operator\n",
        "t = x * y\n",
        "print(t)  # This will print 50\n",
        "\n",
        "# Binary division operator\n",
        "u = y / x\n",
        "print(u)  # This will print 2\n",
        "\n",
        "# Binary remainder operator\n",
        "v = y % x\n",
        "print(v)  # This will print 0\n"
      ],
      "metadata": {
        "colab": {
          "base_uri": "https://localhost:8080/"
        },
        "id": "BFIIWT6Xad0b",
        "outputId": "7f4fbf0c-e9f0-4c52-d427-2200a6131c3b"
      },
      "execution_count": null,
      "outputs": [
        {
          "output_type": "stream",
          "name": "stdout",
          "text": [
            "-5\n",
            "15\n",
            "5\n",
            "50\n",
            "2.0\n",
            "0\n"
          ]
        }
      ]
    },
    {
      "cell_type": "markdown",
      "source": [
        "## **Bitwise Operators**"
      ],
      "metadata": {
        "id": "Dt1abPPKaXhB"
      }
    },
    {
      "cell_type": "code",
      "source": [
        "x = 5\n",
        "y = 3\n",
        "bitwise_and = x & y\n",
        "bitwise_or = x | y\n",
        "bitwise_xor = x ^ y\n",
        "bitwise_not = ~x"
      ],
      "metadata": {
        "id": "qThhb5Oba2yA"
      },
      "execution_count": null,
      "outputs": []
    },
    {
      "cell_type": "code",
      "source": [
        "# This program performs bitwise AND, OR, XOR, and NOT operations.\n",
        "\n",
        "x = 2\n",
        "y = 3\n",
        "\n",
        "# Bitwise AND operator\n",
        "z = x & y\n",
        "print(z)  # This will print\n",
        "\n",
        "# Bitwise OR operator\n",
        "w = x | y\n",
        "print(w)  # This will print\n",
        "\n",
        "# Bitwise XOR operator\n",
        "v = x ^ y\n",
        "print(v)  # This will print\n",
        "\n",
        "# Bitwise NOT operator\n",
        "t = ~x\n",
        "print(t)  # This will print"
      ],
      "metadata": {
        "colab": {
          "base_uri": "https://localhost:8080/"
        },
        "id": "oUIhaTcUbCxp",
        "outputId": "b007e796-798e-45a8-c2b9-6d8fb4888377"
      },
      "execution_count": null,
      "outputs": [
        {
          "output_type": "stream",
          "name": "stdout",
          "text": [
            "2\n",
            "3\n",
            "1\n",
            "-3\n"
          ]
        }
      ]
    },
    {
      "cell_type": "markdown",
      "source": [
        "## **String Operators**"
      ],
      "metadata": {
        "id": "XpdYgER9aJQB"
      }
    },
    {
      "cell_type": "code",
      "source": [
        "str1 = \"Hello\"\n",
        "str2 = \"World\"\n",
        "concatenation = str1 + str2\n",
        "repetition = str1 * 3\n",
        "\n",
        "print(concatenation)\n",
        "print(repetition)"
      ],
      "metadata": {
        "colab": {
          "base_uri": "https://localhost:8080/"
        },
        "id": "Coil_YOKbMF-",
        "outputId": "8154ae80-e260-4d2e-f47b-4d94dcf32fcd"
      },
      "execution_count": null,
      "outputs": [
        {
          "output_type": "stream",
          "name": "stdout",
          "text": [
            "HelloWorld\n",
            "HelloHelloHello\n"
          ]
        }
      ]
    },
    {
      "cell_type": "markdown",
      "source": [
        "Boolean Operators"
      ],
      "metadata": {
        "id": "t-LyeRBfbZvB"
      }
    },
    {
      "cell_type": "code",
      "source": [
        "x = True\n",
        "y = False\n",
        "logical_and = x and y\n",
        "logical_or = x or y\n",
        "logical_not = not x\n",
        "\n",
        "print(logical_and)\n",
        "print(logical_or)\n",
        "print(logical_not)\n"
      ],
      "metadata": {
        "colab": {
          "base_uri": "https://localhost:8080/"
        },
        "id": "HkjCtm55bV0m",
        "outputId": "a1db4672-6d95-416f-fcb5-eaa8367ca2fe"
      },
      "execution_count": null,
      "outputs": [
        {
          "output_type": "stream",
          "name": "stdout",
          "text": [
            "False\n",
            "True\n",
            "False\n"
          ]
        }
      ]
    },
    {
      "cell_type": "markdown",
      "source": [
        "## **Relational Operators**"
      ],
      "metadata": {
        "id": "MKttKRh7bqP_"
      }
    },
    {
      "cell_type": "code",
      "source": [
        "x = 5\n",
        "y = 10\n",
        "equals = x == y\n",
        "not_equals = x != y\n",
        "greater_than = x > y\n",
        "less_than = x < y\n"
      ],
      "metadata": {
        "id": "ujUZ5MOwbv1x"
      },
      "execution_count": null,
      "outputs": []
    },
    {
      "cell_type": "markdown",
      "source": [
        "## **Assignment Operators**"
      ],
      "metadata": {
        "id": "6SS7vGalbt0F"
      }
    },
    {
      "cell_type": "code",
      "source": [
        "x = 10\n",
        "x += 5\n",
        "x -= 2\n",
        "x *= 3\n",
        "x /= 2\n"
      ],
      "metadata": {
        "id": "RmmhhpMkb3f2"
      },
      "execution_count": null,
      "outputs": []
    },
    {
      "cell_type": "markdown",
      "source": [
        "## **Formatting**\n",
        "\n",
        "\n",
        "* The line formatted_string = f\"My name is {name} and I am {age} years old.\" uses an f-string to create a formatted string.\n",
        "* The f-string syntax allows you to insert variables and expressions into a string.\n",
        "* In this case, the variable name and the expression age are inserted into the string."
      ],
      "metadata": {
        "id": "TBWiMtIub8QO"
      }
    },
    {
      "cell_type": "code",
      "source": [
        "name = \"John\"\n",
        "age = 30\n",
        "formatted_string = f\"My name is {name} and I am {age} years old.\"\n",
        "print(formatted_string)"
      ],
      "metadata": {
        "colab": {
          "base_uri": "https://localhost:8080/"
        },
        "id": "Mv1dQl3Qb-u0",
        "outputId": "c79bb3eb-37d1-460f-bb0f-b9f7926f2a47"
      },
      "execution_count": null,
      "outputs": [
        {
          "output_type": "stream",
          "name": "stdout",
          "text": [
            "My name is John and I am 30 years old.\n"
          ]
        }
      ]
    },
    {
      "cell_type": "markdown",
      "source": [
        "# Practice\n",
        "# Important keywords\n",
        "\n",
        "1. Write a function that uses the pass keyword.\n",
        "2. Write a function that uses the yield keyword.\n",
        "3. Write a function that uses the global keyword.\n",
        "\n",
        "# Operators\n",
        "\n",
        "1. Write a program that performs various arithmetic operations\n",
        "using unary and binary operators.\n",
        "2. Write a program that performs bitwise AND, OR, XOR, and NOT operations on two numbers.\n",
        "3. Write a program that compares two numbers using relational operators.\n",
        "4. Write a program that uses assignment operators to update a variable.\n",
        "5. Write a program that creates a formatted string using f-strings."
      ],
      "metadata": {
        "id": "fwD8rrMBnr0s"
      }
    },
    {
      "cell_type": "markdown",
      "source": [
        "# 4.**Modules and Packages**"
      ],
      "metadata": {
        "id": "S36RB35xcnAO"
      }
    },
    {
      "cell_type": "markdown",
      "source": [
        "## Import Variants\n",
        "Python provides various ways to import modules and use them in your code:\n",
        "\n",
        "* import: Imports the entire module.\n",
        "\n",
        "* from import: Imports specific items from a module.\n",
        "\n",
        "* import as: Renames a module or item for easier reference.\n",
        "\n",
        "* import *: Imports all items from a module (not recommended)."
      ],
      "metadata": {
        "id": "hkrGmbdYc0Vz"
      }
    },
    {
      "cell_type": "code",
      "source": [
        "# Import the whole math module\n",
        "import math\n",
        "\n",
        "# Import only the pi constant from math\n",
        "from math import pi\n",
        "\n",
        "# Rename the imported module or item\n",
        "import math as m\n",
        "\n",
        "# Import all items from math (not recommended)\n",
        "from math import *\n"
      ],
      "metadata": {
        "id": "QEmSi4srdIjb"
      },
      "execution_count": null,
      "outputs": []
    },
    {
      "cell_type": "markdown",
      "source": [
        "Exercise: Create a Python script that calculates the area of a circle using the pi constant from the math module. Try using different import variants."
      ],
      "metadata": {
        "id": "oJTu2dhxdOgT"
      }
    },
    {
      "cell_type": "code",
      "source": [
        "import math\n",
        "\n",
        "radius = 5\n",
        "\n",
        "# Using the `import math` statement\n",
        "area = math.pi * radius * radius\n",
        "print(\"The area of the circle is\", area)\n",
        "\n",
        "# Using the `from math import pi` statement\n",
        "from math import pi\n",
        "\n",
        "area = pi * radius * radius\n",
        "print(\"The area of the circle is\", area)\n",
        "\n",
        "# Using the `as` keyword\n",
        "import math as m\n",
        "\n",
        "area = m.pi * radius * radius\n",
        "print(\"The area of the circle is\", area)\n"
      ],
      "metadata": {
        "colab": {
          "base_uri": "https://localhost:8080/"
        },
        "id": "vKmP2BfqmVAd",
        "outputId": "bfc456f9-3a63-44da-d421-5e7063345ba9"
      },
      "execution_count": null,
      "outputs": [
        {
          "output_type": "stream",
          "name": "stdout",
          "text": [
            "The area of the circle is 78.53981633974483\n",
            "The area of the circle is 78.53981633974483\n",
            "The area of the circle is 78.53981633974483\n"
          ]
        }
      ]
    },
    {
      "cell_type": "markdown",
      "source": [
        "## Advanced Qualifying for Nested Modules"
      ],
      "metadata": {
        "id": "3xrUSOewdsxC"
      }
    },
    {
      "cell_type": "markdown",
      "source": [
        "When working with nested modules, you can use dot notation to access submodules or subpackages within a module."
      ],
      "metadata": {
        "id": "7eeKXKK6dvcv"
      }
    },
    {
      "cell_type": "code",
      "source": [
        "# Access the datetime module and its date submodule\n",
        "import datetime\n",
        "today = datetime.date.today()\n",
        "\n",
        "print(today)\n",
        "\n",
        "# Access a submodule within a package\n",
        "from sklearn.linear_model import LogisticRegression\n"
      ],
      "metadata": {
        "colab": {
          "base_uri": "https://localhost:8080/"
        },
        "id": "djCNm2DleARx",
        "outputId": "3fc7c3e7-c024-4193-aa1a-824f94578f61"
      },
      "execution_count": null,
      "outputs": [
        {
          "output_type": "stream",
          "name": "stdout",
          "text": [
            "2023-09-03\n"
          ]
        }
      ]
    },
    {
      "cell_type": "markdown",
      "source": [
        "The dir() Function\n",
        "\n",
        "The dir() function returns a list of all names (variables, functions, classes, etc.) defined in the current scope or in the specified module."
      ],
      "metadata": {
        "id": "P5paypb5dqmJ"
      }
    },
    {
      "cell_type": "code",
      "source": [
        "# List all names in the math module\n",
        "import math\n",
        "print(dir(math))\n"
      ],
      "metadata": {
        "colab": {
          "base_uri": "https://localhost:8080/"
        },
        "id": "4KaEQRche8o2",
        "outputId": "5ccb6ba8-0fa5-456d-fd9e-85c1359d8108"
      },
      "execution_count": null,
      "outputs": [
        {
          "output_type": "stream",
          "name": "stdout",
          "text": [
            "['__doc__', '__loader__', '__name__', '__package__', '__spec__', 'acos', 'acosh', 'asin', 'asinh', 'atan', 'atan2', 'atanh', 'ceil', 'comb', 'copysign', 'cos', 'cosh', 'degrees', 'dist', 'e', 'erf', 'erfc', 'exp', 'expm1', 'fabs', 'factorial', 'floor', 'fmod', 'frexp', 'fsum', 'gamma', 'gcd', 'hypot', 'inf', 'isclose', 'isfinite', 'isinf', 'isnan', 'isqrt', 'lcm', 'ldexp', 'lgamma', 'log', 'log10', 'log1p', 'log2', 'modf', 'nan', 'nextafter', 'perm', 'pi', 'pow', 'prod', 'radians', 'remainder', 'sin', 'sinh', 'sqrt', 'tan', 'tanh', 'tau', 'trunc', 'ulp']\n"
          ]
        }
      ]
    },
    {
      "cell_type": "markdown",
      "source": [
        "The sys.path Variable\n",
        "\n",
        "sys.path is a list of directory names where Python searches for module files.\n",
        "\n",
        " You can modify it to include additional directories."
      ],
      "metadata": {
        "id": "835IOSUrfJnh"
      }
    },
    {
      "cell_type": "code",
      "source": [
        "import sys\n",
        "print(sys.path)\n",
        "\n",
        "# Add a directory to sys.path temporarily\n",
        "sys.path.append('/path/to/my/module')\n"
      ],
      "metadata": {
        "colab": {
          "base_uri": "https://localhost:8080/"
        },
        "id": "SJWKvCoVfHVO",
        "outputId": "93a042fa-1b59-406d-fc2b-236a9daf94e3"
      },
      "execution_count": null,
      "outputs": [
        {
          "output_type": "stream",
          "name": "stdout",
          "text": [
            "['/content', '/env/python', '/usr/lib/python310.zip', '/usr/lib/python3.10', '/usr/lib/python3.10/lib-dynload', '', '/usr/local/lib/python3.10/dist-packages', '/usr/lib/python3/dist-packages', '/usr/local/lib/python3.10/dist-packages/IPython/extensions', '/root/.ipython']\n"
          ]
        }
      ]
    },
    {
      "cell_type": "markdown",
      "source": [
        "# **5.Perform Evaluations Using the math Module**"
      ],
      "metadata": {
        "id": "BDHzjkZ8fb1_"
      }
    },
    {
      "cell_type": "markdown",
      "source": [
        "## ceil()\n",
        "\n",
        "The ceil() function from the math module rounds a floating-point number up to the nearest integer."
      ],
      "metadata": {
        "id": "anfeAHTefhKq"
      }
    },
    {
      "cell_type": "code",
      "source": [
        "import math\n",
        "x = 4.3\n",
        "result = math.ceil(x)  # Result: 5\n",
        "print(result)"
      ],
      "metadata": {
        "colab": {
          "base_uri": "https://localhost:8080/"
        },
        "id": "mTmxtE9afp1d",
        "outputId": "c2df99b5-64ed-4f0e-aaf9-ebce12c3ab94"
      },
      "execution_count": null,
      "outputs": [
        {
          "output_type": "stream",
          "name": "stdout",
          "text": [
            "5\n"
          ]
        }
      ]
    },
    {
      "cell_type": "markdown",
      "source": [
        "## floor()\n",
        "\n",
        "The floor() function from the math module rounds a floating-point number down to the nearest integer."
      ],
      "metadata": {
        "id": "tnHbeo1JfyK1"
      }
    },
    {
      "cell_type": "code",
      "source": [
        "import math\n",
        "x = 4.7\n",
        "result = math.floor(x)  # Result: 4\n",
        "print(result)"
      ],
      "metadata": {
        "colab": {
          "base_uri": "https://localhost:8080/"
        },
        "id": "AHZ6PZ3Qf6QY",
        "outputId": "d2b58253-e138-4114-9503-31c4d43c890b"
      },
      "execution_count": null,
      "outputs": [
        {
          "output_type": "stream",
          "name": "stdout",
          "text": [
            "4\n"
          ]
        }
      ]
    },
    {
      "cell_type": "markdown",
      "source": [
        "## trunc()\n",
        "\n",
        "The trunc() function from the math module truncates a floating-point number towards zero."
      ],
      "metadata": {
        "id": "grvPMBFbgBW-"
      }
    },
    {
      "cell_type": "code",
      "source": [
        "import math\n",
        "x = -4.9\n",
        "result = math.trunc(x)  # Result: -4\n",
        "print(result)"
      ],
      "metadata": {
        "colab": {
          "base_uri": "https://localhost:8080/"
        },
        "id": "Hfy6SFucgp0j",
        "outputId": "33cb7e5a-dcda-4f6b-8a88-765976665caa"
      },
      "execution_count": null,
      "outputs": [
        {
          "output_type": "stream",
          "name": "stdout",
          "text": [
            "-4\n"
          ]
        }
      ]
    },
    {
      "cell_type": "markdown",
      "source": [
        "## factorial()\n",
        "\n",
        "The factorial() function from the math module calculates the factorial of a non-negative integer."
      ],
      "metadata": {
        "id": "v5-MI0Y6guhX"
      }
    },
    {
      "cell_type": "code",
      "source": [
        "import math\n",
        "n = 5\n",
        "result = math.factorial(n)  # Result: 120\n",
        "print(result)"
      ],
      "metadata": {
        "colab": {
          "base_uri": "https://localhost:8080/"
        },
        "id": "qnOF0J5jgwd-",
        "outputId": "1438cbbb-1ad1-4a36-9e91-c5e094c6c476"
      },
      "execution_count": null,
      "outputs": [
        {
          "output_type": "stream",
          "name": "stdout",
          "text": [
            "120\n"
          ]
        }
      ]
    },
    {
      "cell_type": "markdown",
      "source": [
        "## hypot()\n",
        "\n",
        "The hypot() function from the math module calculates the Euclidean distance (length of the hypotenuse) between two points (x, y)."
      ],
      "metadata": {
        "id": "0SCFB9Jgg48_"
      }
    },
    {
      "cell_type": "code",
      "source": [
        "import math\n",
        "x = 3\n",
        "y = 4\n",
        "result = math.hypot(x, y)  # Result: 5.0\n",
        "print(result)"
      ],
      "metadata": {
        "colab": {
          "base_uri": "https://localhost:8080/"
        },
        "id": "K5FPnHoXg8fv",
        "outputId": "6562dc3f-5194-4f36-99c4-5cc4225b8ca0"
      },
      "execution_count": null,
      "outputs": [
        {
          "output_type": "stream",
          "name": "stdout",
          "text": [
            "5.0\n"
          ]
        }
      ]
    },
    {
      "cell_type": "markdown",
      "source": [
        "##sqrt()\n",
        "\n",
        "The sqrt() function from the math module calculates the square root of a non-negative number."
      ],
      "metadata": {
        "id": "Mj6IxaDghpgN"
      }
    },
    {
      "cell_type": "code",
      "source": [
        "import math\n",
        "x = 25\n",
        "result = math.sqrt(x)  # Result: 5.0\n",
        "print(result)"
      ],
      "metadata": {
        "colab": {
          "base_uri": "https://localhost:8080/"
        },
        "id": "LNdTwnEHhwb-",
        "outputId": "e9481e77-c6f7-47b8-f61b-fc595fd02b18"
      },
      "execution_count": null,
      "outputs": [
        {
          "output_type": "stream",
          "name": "stdout",
          "text": [
            "5.0\n"
          ]
        }
      ]
    },
    {
      "cell_type": "markdown",
      "source": [
        "# **6.Generate Random Values Using the random Module**"
      ],
      "metadata": {
        "id": "YywZIex4h4Ih"
      }
    },
    {
      "cell_type": "markdown",
      "source": [
        "## random()\n",
        "\n",
        "The random() function from the random module generates a random float between 0 and 1."
      ],
      "metadata": {
        "id": "ugiMUvg-h8O9"
      }
    },
    {
      "cell_type": "code",
      "source": [
        "import random\n",
        "rand_num = random.random()\n",
        "print(rand_num)"
      ],
      "metadata": {
        "colab": {
          "base_uri": "https://localhost:8080/"
        },
        "id": "9egzf5IuiBtC",
        "outputId": "e411b85a-35ef-49a5-afa9-a24ac9139247"
      },
      "execution_count": null,
      "outputs": [
        {
          "output_type": "stream",
          "name": "stdout",
          "text": [
            "0.34906348263011466\n"
          ]
        }
      ]
    },
    {
      "cell_type": "markdown",
      "source": [
        "## seed()\n",
        "\n",
        "The seed() function from the random module sets the seed value for the random number generator. Setting the seed ensures reproducibility of random results."
      ],
      "metadata": {
        "id": "2WnuunzxkSei"
      }
    },
    {
      "cell_type": "code",
      "source": [
        "import random\n",
        "random.seed(42)  # Set a seed value\n",
        "rand_num = random.random()\n",
        "print(rand_num)"
      ],
      "metadata": {
        "colab": {
          "base_uri": "https://localhost:8080/"
        },
        "id": "DSZ0wEy_kUhu",
        "outputId": "81c4ed59-43fb-4656-9f89-a9720cff4c25"
      },
      "execution_count": null,
      "outputs": [
        {
          "output_type": "stream",
          "name": "stdout",
          "text": [
            "0.6394267984578837\n"
          ]
        }
      ]
    },
    {
      "cell_type": "markdown",
      "source": [
        "## choice()\n",
        "\n",
        "The choice() function from the random module selects a random element from a sequence."
      ],
      "metadata": {
        "id": "jWwzeaIIkuQ9"
      }
    },
    {
      "cell_type": "code",
      "source": [
        "import random\n",
        "my_list = [1, 2, 3, 4, 5]\n",
        "random_element = random.choice(my_list)\n",
        "print(random_element)"
      ],
      "metadata": {
        "id": "dXZswaqxkwfw",
        "colab": {
          "base_uri": "https://localhost:8080/"
        },
        "outputId": "d8b2bb81-2bd2-4f2b-e859-de7845478b50"
      },
      "execution_count": null,
      "outputs": [
        {
          "output_type": "stream",
          "name": "stdout",
          "text": [
            "1\n"
          ]
        }
      ]
    },
    {
      "cell_type": "markdown",
      "source": [
        "## sample()\n",
        "\n",
        "The sample() function from the random module selects a specified number of unique random elements from a sequence."
      ],
      "metadata": {
        "id": "3c5NAr_Hk_Ty"
      }
    },
    {
      "cell_type": "code",
      "source": [
        "import random\n",
        "my_list = [1, 2, 3, 4, 5]\n",
        "sampled_elements = random.sample(my_list, 3)  # Select 3 unique random elements\n",
        "print(sampled_elements)"
      ],
      "metadata": {
        "colab": {
          "base_uri": "https://localhost:8080/"
        },
        "id": "6rr7NiKpk-Hl",
        "outputId": "a96d0f4d-6625-4478-ebff-85ef5abaf2ed"
      },
      "execution_count": null,
      "outputs": [
        {
          "output_type": "stream",
          "name": "stdout",
          "text": [
            "[4, 2, 1]\n"
          ]
        }
      ]
    },
    {
      "cell_type": "markdown",
      "source": [
        "# 7.**Discovering Host Platform Properties with platform Module**"
      ],
      "metadata": {
        "id": "Z3zmJa2OlMhT"
      }
    },
    {
      "cell_type": "markdown",
      "source": [
        "The platform module in Python offers a convenient way to gather information about the host platform, including details about the operating system, hardware, and Python itself.\n",
        "\n",
        "This can be valuable for ensuring cross-platform compatibility and making informed decisions in your Python programs."
      ],
      "metadata": {
        "id": "B1BY5imEstG9"
      }
    },
    {
      "cell_type": "markdown",
      "source": [
        "## platform():\n",
        "\n",
        "Obtains and displays information about the host platform, including the operating system name and version.\n",
        "\n",
        "Example usage:"
      ],
      "metadata": {
        "id": "PUxKnsxEsx9w"
      }
    },
    {
      "cell_type": "code",
      "source": [
        "import platform\n",
        "platform_info = platform.platform()\n",
        "print(platform_info)\n"
      ],
      "metadata": {
        "colab": {
          "base_uri": "https://localhost:8080/"
        },
        "id": "Abd1nkkjsnZN",
        "outputId": "66ef17e8-386c-47ef-d6c3-0b3400405337"
      },
      "execution_count": null,
      "outputs": [
        {
          "output_type": "stream",
          "name": "stdout",
          "text": [
            "Linux-5.15.109+-x86_64-with-glibc2.35\n"
          ]
        }
      ]
    },
    {
      "cell_type": "markdown",
      "source": [
        "## machine():\n",
        "\n",
        "Retrieves and prints the machine type or hardware platform of the host system.\n",
        "\n",
        "Example usage:"
      ],
      "metadata": {
        "id": "zcyEexUctAg3"
      }
    },
    {
      "cell_type": "code",
      "source": [
        "import platform\n",
        "machine_type = platform.machine()\n",
        "print(f\"Machine Type: {machine_type}\")\n"
      ],
      "metadata": {
        "colab": {
          "base_uri": "https://localhost:8080/"
        },
        "id": "UNjCoIwjtD-O",
        "outputId": "802447d7-bc49-4037-b31c-1a6c0ceb7c20"
      },
      "execution_count": null,
      "outputs": [
        {
          "output_type": "stream",
          "name": "stdout",
          "text": [
            "Machine Type: x86_64\n"
          ]
        }
      ]
    },
    {
      "cell_type": "markdown",
      "source": [
        "## processor():\n",
        "\n",
        "Obtains and prints the processor name or type of the host system.\n",
        "\n",
        "Example usage:"
      ],
      "metadata": {
        "id": "7JvFJ1iztJw3"
      }
    },
    {
      "cell_type": "code",
      "source": [
        "import platform\n",
        "processor_info = platform.processor()\n",
        "print(f\"Processor: {processor_info}\")\n"
      ],
      "metadata": {
        "colab": {
          "base_uri": "https://localhost:8080/"
        },
        "id": "bK2trgB2tNck",
        "outputId": "4415a2a1-3919-4b45-b724-df409259f6d0"
      },
      "execution_count": null,
      "outputs": [
        {
          "output_type": "stream",
          "name": "stdout",
          "text": [
            "Processor: x86_64\n"
          ]
        }
      ]
    },
    {
      "cell_type": "markdown",
      "source": [
        "## system():\n",
        "\n",
        "Retrieves and displays the name of the operating system on which your Python script is running (e.g., Windows, Linux, macOS).\n",
        "\n",
        "Example usage:"
      ],
      "metadata": {
        "id": "Orqonh9NtUqe"
      }
    },
    {
      "cell_type": "code",
      "source": [
        "import platform\n",
        "os_name = platform.system()\n",
        "print(f\"Operating System: {os_name}\")\n"
      ],
      "metadata": {
        "colab": {
          "base_uri": "https://localhost:8080/"
        },
        "id": "EWaYDtuftZOR",
        "outputId": "60af4f26-5315-4fa3-f478-98502fc8951e"
      },
      "execution_count": null,
      "outputs": [
        {
          "output_type": "stream",
          "name": "stdout",
          "text": [
            "Operating System: Linux\n"
          ]
        }
      ]
    },
    {
      "cell_type": "markdown",
      "source": [
        "## version():\n",
        "\n",
        "Retrieves and prints the version of the operating system.\n",
        "\n",
        "Example usage:"
      ],
      "metadata": {
        "id": "BhOdZRLcthKG"
      }
    },
    {
      "cell_type": "code",
      "source": [
        "import platform\n",
        "os_version = platform.version()\n",
        "print(f\"OS Version: {os_version}\")\n"
      ],
      "metadata": {
        "colab": {
          "base_uri": "https://localhost:8080/"
        },
        "id": "VAGvzQyztqIK",
        "outputId": "3eb5ba67-70a4-4bd3-852c-166008f4ed46"
      },
      "execution_count": null,
      "outputs": [
        {
          "output_type": "stream",
          "name": "stdout",
          "text": [
            "OS Version: #1 SMP Fri Jun 9 10:57:30 UTC 2023\n"
          ]
        }
      ]
    },
    {
      "cell_type": "markdown",
      "source": [
        "## python_implementation():\n",
        "\n",
        "Retrieves and prints the name of the Python implementation in use (e.g., CPython, Jython, IronPython).\n",
        "\n",
        "Example usage:"
      ],
      "metadata": {
        "id": "hNrHPaautwb0"
      }
    },
    {
      "cell_type": "code",
      "source": [
        "import platform\n",
        "python_impl = platform.python_implementation()\n",
        "print(f\"Python Implementation: {python_impl}\")\n"
      ],
      "metadata": {
        "colab": {
          "base_uri": "https://localhost:8080/"
        },
        "id": "NBOHEsmztzIM",
        "outputId": "ab483b22-447e-4c97-dfc8-66e42b4618d7"
      },
      "execution_count": null,
      "outputs": [
        {
          "output_type": "stream",
          "name": "stdout",
          "text": [
            "Python Implementation: CPython\n"
          ]
        }
      ]
    },
    {
      "cell_type": "markdown",
      "source": [
        "## python_version_tuple():\n",
        "\n",
        "Retrieves and prints a tuple containing the major, minor, and micro version numbers of Python.\n",
        "\n",
        "Example usage:"
      ],
      "metadata": {
        "id": "naDpfAlOt3l5"
      }
    },
    {
      "cell_type": "code",
      "source": [
        "import platform\n",
        "python_version = platform.python_version_tuple()\n",
        "print(f\"Python Version: {python_version[0]}.{python_version[1]}.{python_version[2]}\")\n"
      ],
      "metadata": {
        "colab": {
          "base_uri": "https://localhost:8080/"
        },
        "id": "_-04O2iUt6S-",
        "outputId": "4f66b438-0531-46b4-c281-d5238bbae010"
      },
      "execution_count": null,
      "outputs": [
        {
          "output_type": "stream",
          "name": "stdout",
          "text": [
            "Python Version: 3.10.12\n"
          ]
        }
      ]
    },
    {
      "cell_type": "markdown",
      "source": [
        "# **8.Creating and Using User-Defined Modules and Packages**"
      ],
      "metadata": {
        "id": "rtgGao9Yubc1"
      }
    },
    {
      "cell_type": "markdown",
      "source": [
        "## Idea and Rationale:\n",
        "\n",
        "**Modules and Packages:** Python allows developers to create reusable code components, such as functions, classes, and variables, by organizing them into modules and packages.\n",
        "\n",
        "**Organization:** Modules group related code, making it easier to maintain and understand. Packages provide a way to organize modules hierarchically."
      ],
      "metadata": {
        "id": "fhShzduuurG8"
      }
    },
    {
      "cell_type": "markdown",
      "source": [
        "## The __pycache__ Directory:\n",
        "\n",
        "**Compilation Cache:** Python automatically compiles modules into bytecode files and stores them in the\n",
        "```\n",
        "__pycache__ ```\n",
        "directory.\n",
        "\n",
        "**Efficiency:** This caching improves the execution speed when you re-import modules, as Python can skip recompilation if the source hasn't changed."
      ],
      "metadata": {
        "id": "yPC0j0c6u5fg"
      }
    },
    {
      "cell_type": "markdown",
      "source": [
        "The```__name__```Variable:"
      ],
      "metadata": {
        "id": "tFeTi2GBvDRZ"
      }
    },
    {
      "cell_type": "markdown",
      "source": [
        "Module vs. Script: The```__name__```variable distinguishes whether a Python file is being run as the main program or imported as a module.\n",
        "\n",
        "\n",
        "```\n",
        "__name__ == '__main__':\n",
        "```\n",
        "\n",
        " When a script is run,```__name__ ``` is set to ```'__main__'```, allowing you to execute specific code only when the script is the main program."
      ],
      "metadata": {
        "id": "GY9tLs61vwgS"
      }
    },
    {
      "cell_type": "markdown",
      "source": [
        "## Public and Private Variables:\n",
        "\n",
        "* **Public:** Variables and functions defined without an underscore prefix are considered public and can be accessed from outside the module.\n",
        "\n",
        "* **Private:** Variables and functions with an underscore prefix (e.g., _my_variable) are considered private and should not be accessed directly."
      ],
      "metadata": {
        "id": "An24IBImwSyL"
      }
    },
    {
      "cell_type": "markdown",
      "source": [
        "## The ```__init__.py``` File:\n",
        "\n",
        "**Package Initialization:** The ```__init__.py``` file is required in a directory for it to be treated as a package.\n",
        "\n",
        "**Initialization Code:** You can include initialization code in this file, executed when the package is imported."
      ],
      "metadata": {
        "id": "qtpYtUUFwhG2"
      }
    },
    {
      "cell_type": "markdown",
      "source": [
        "## Searching for/Through Modules/Packages:\n",
        "\n",
        "**Module Search Path:** Python searches for modules and packages in directories specified in the sys.path list.\n",
        "\n",
        "**Standard Library:** Python's standard library modules are readily available.\n",
        "\n",
        "**Custom Locations:** You can add directories to the sys.path list to make your modules/packages discoverable."
      ],
      "metadata": {
        "id": "5AnPSxONw5rN"
      }
    },
    {
      "cell_type": "markdown",
      "source": [
        "## Nested Packages vs. Directory Trees:\n",
        "\n",
        "**Nested Packages:** You can create nested packages by organizing modules into subdirectories within packages. This allows for a hierarchical structure.\n",
        "\n",
        "**Directory Trees:** Organizing modules into directory trees reflects the logical structure of your project, making it more organized and maintainable.\n"
      ],
      "metadata": {
        "id": "7DU0RnzRxM84"
      }
    },
    {
      "cell_type": "markdown",
      "source": [
        "# **9.Strings**\n",
        "\n",
        "machine representation of characters,including encoding standards like ASCII, Unicode, and UTF-8, is essential for working with text data in Python."
      ],
      "metadata": {
        "id": "oVCtdn_azORd"
      }
    },
    {
      "cell_type": "markdown",
      "source": [
        "## **1. ASCII Encoding:**\n",
        "\n",
        "* ASCII (American Standard Code for Information Interchange) is an early encoding standard that uses 7 or 8 bits to represent English characters and control characters.\n",
        "* Each character is mapped to a unique numeric value between 0 and 127.\n",
        "\n",
        "Program Example:"
      ],
      "metadata": {
        "id": "j8BZ3qVSzvkH"
      }
    },
    {
      "cell_type": "code",
      "source": [
        "# ASCII values for characters\n",
        "char = 'A'\n",
        "ascii_value = ord(char)\n",
        "print(f\"The ASCII value of '{char}' is {ascii_value}\")\n",
        "\n",
        "# Convert ASCII value to character\n",
        "ascii_value = 97\n",
        "char = chr(ascii_value)\n",
        "print(f\"The character with ASCII value {ascii_value} is '{char}'\")\n"
      ],
      "metadata": {
        "colab": {
          "base_uri": "https://localhost:8080/"
        },
        "id": "xmJqmSOxz8NB",
        "outputId": "a81dab06-908a-4078-a4f8-7d80ffdf2fb9"
      },
      "execution_count": null,
      "outputs": [
        {
          "output_type": "stream",
          "name": "stdout",
          "text": [
            "The ASCII value of 'A' is 65\n",
            "The character with ASCII value 97 is 'a'\n"
          ]
        }
      ]
    },
    {
      "cell_type": "markdown",
      "source": [
        "**2. Unicode Encoding:**\n",
        "\n",
        "Explanation: Unicode is a more comprehensive encoding standard that includes characters from various writing systems, emojis, and symbols. Unicode uses 16 bits per character, allowing for a wide range of characters.\n",
        "\n",
        "Program Example:"
      ],
      "metadata": {
        "id": "vkY_21OI0MQX"
      }
    },
    {
      "cell_type": "code",
      "source": [
        "# Unicode code points for characters\n",
        "char = '@'\n",
        "code_point = ord(char)\n",
        "print(f\"The Unicode code point of '{char}' is U+{code_point:04X}\")\n",
        "\n",
        "# Convert code point to character\n",
        "code_point = 0x1F603\n",
        "char = chr(code_point)\n",
        "print(f\"The character with code point U+{code_point:04X} is '{char}'\")\n"
      ],
      "metadata": {
        "colab": {
          "base_uri": "https://localhost:8080/"
        },
        "id": "i_Lmkfr9zTkp",
        "outputId": "c0e7a0b1-3f79-4d92-dbd8-25e1c2566a39"
      },
      "execution_count": null,
      "outputs": [
        {
          "output_type": "stream",
          "name": "stdout",
          "text": [
            "The Unicode code point of '@' is U+0040\n",
            "The character with code point U+1F603 is '😃'\n"
          ]
        }
      ]
    },
    {
      "cell_type": "markdown",
      "source": [
        "**3. UTF-8 Encoding:**\n",
        "\n",
        "Explanation: UTF-8 (Unicode Transformation Format - 8) is a variable-length encoding standard for Unicode. It uses 8 bits (1 byte) for common ASCII characters and up to 32 bits for less common characters. UTF-8 is widely used on the internet and is backward compatible with ASCII.\n",
        "\n",
        "Program Example:"
      ],
      "metadata": {
        "id": "Vy0cfBm61Cx-"
      }
    },
    {
      "cell_type": "code",
      "source": [
        "# UTF-8 encoding and decoding\n",
        "text = \"Hello, ##, @@\"\n",
        "utf8_encoded = text.encode('utf-8')\n",
        "decoded_text = utf8_encoded.decode('utf-8')\n",
        "print(f\"Original Text: {text}\")\n",
        "print(f\"UTF-8 Encoded: {utf8_encoded}\")\n",
        "print(f\"Decoded Text: {decoded_text}\")\n"
      ],
      "metadata": {
        "id": "YYqgaYERuhjr",
        "colab": {
          "base_uri": "https://localhost:8080/"
        },
        "outputId": "c10b6b3f-4afe-40e1-a1d4-f0cd34b1bf25"
      },
      "execution_count": null,
      "outputs": [
        {
          "output_type": "stream",
          "name": "stdout",
          "text": [
            "Original Text: Hello, ##, @@\n",
            "UTF-8 Encoded: b'Hello, ##, @@'\n",
            "Decoded Text: Hello, ##, @@\n"
          ]
        }
      ]
    },
    {
      "cell_type": "markdown",
      "source": [
        "**4. Escape Sequences:**\n",
        "\n",
        "Explanation: Escape sequences are special combinations of characters used to represent characters that are difficult to type or to include characters with special meanings in strings. They are often used for newline, tab, and escaping quotes.\n",
        "\n",
        "Program Example:"
      ],
      "metadata": {
        "id": "r9n5jpD61n3m"
      }
    },
    {
      "cell_type": "code",
      "source": [
        "# Using escape sequences\n",
        "print(\"This is a newline\\nThis is a tab\\tThis is a backslash: \\\\\")\n",
        "print(\"You can include double quotes within double quotes using escape: \\\"Hello\\\"\")\n"
      ],
      "metadata": {
        "colab": {
          "base_uri": "https://localhost:8080/"
        },
        "id": "JIFoUVqZ1zxI",
        "outputId": "ce2a573a-db99-415a-b1c1-b2561fdef702"
      },
      "execution_count": null,
      "outputs": [
        {
          "output_type": "stream",
          "name": "stdout",
          "text": [
            "This is a newline\n",
            "This is a tab\tThis is a backslash: \\\n",
            "You can include double quotes within double quotes using escape: \"Hello\"\n"
          ]
        }
      ]
    },
    {
      "cell_type": "markdown",
      "source": [
        "**Unicode Escape Sequences:**"
      ],
      "metadata": {
        "id": "Av78xkds156X"
      }
    },
    {
      "cell_type": "code",
      "source": [
        "# Unicode escape sequence for a smiley face\n",
        "smiley = \"\\U0001F604\"\n",
        "print(f\"This is a smiley face: {smiley}\")\n"
      ],
      "metadata": {
        "colab": {
          "base_uri": "https://localhost:8080/"
        },
        "id": "01qRoGn11_dY",
        "outputId": "c9dc1a8f-9393-4c7e-f149-b6c6ae617496"
      },
      "execution_count": null,
      "outputs": [
        {
          "output_type": "stream",
          "name": "stdout",
          "text": [
            "This is a smiley face: 😄\n"
          ]
        }
      ]
    },
    {
      "cell_type": "code",
      "source": [
        "# Unicode escape sequence for a angry face\n",
        "angry = \"\\U0001F620\"\n",
        "print(f\"This is a angry face: {angry}\")"
      ],
      "metadata": {
        "colab": {
          "base_uri": "https://localhost:8080/"
        },
        "id": "8vtniST62F6n",
        "outputId": "055b1ce3-5f7e-4b89-ef9b-d8d03e177a7f"
      },
      "execution_count": null,
      "outputs": [
        {
          "output_type": "stream",
          "name": "stdout",
          "text": [
            "This is a angry face: 😠\n"
          ]
        }
      ]
    },
    {
      "cell_type": "markdown",
      "source": [
        "# **Operate on Strings**"
      ],
      "metadata": {
        "id": "-gSgbGDN2bJ0"
      }
    },
    {
      "cell_type": "markdown",
      "source": [
        "**1.ord() and chr() Functions:**\n",
        "\n",
        "ord(char) returns the Unicode code point of a character.\n",
        "chr(code_point) returns the character corresponding to a Unicode code point.\n",
        "\n",
        "Example:"
      ],
      "metadata": {
        "id": "zNj0V8CA2h4U"
      }
    },
    {
      "cell_type": "code",
      "source": [
        "char = 'A'\n",
        "code_point = ord(char)  # Returns 65\n",
        "char = chr(65)         # Returns 'A'\n",
        "\n",
        "print(code_point)\n",
        "print(char)\n"
      ],
      "metadata": {
        "colab": {
          "base_uri": "https://localhost:8080/"
        },
        "id": "61dK5EZM2pgn",
        "outputId": "0453bbb1-e53b-4261-a26f-ef5e9c48be4b"
      },
      "execution_count": null,
      "outputs": [
        {
          "output_type": "stream",
          "name": "stdout",
          "text": [
            "65\n",
            "A\n"
          ]
        }
      ]
    },
    {
      "cell_type": "markdown",
      "source": [
        "## **Indexing, Slicing, and Immutability:**\n",
        "\n",
        "* Strings are sequences of characters, and you can access individual characters using indexing (e.g., my_string[0]).\n",
        "* Slicing allows you to extract substrings (e.g., my_string[1:4]).\n",
        "\n",
        "* Strings are immutable, meaning you cannot change their characters directly. Instead, you create new strings with modifications."
      ],
      "metadata": {
        "id": "VKkIk7NH223k"
      }
    },
    {
      "cell_type": "code",
      "source": [
        "# Define a sample string\n",
        "my_string = \"Hello, Python!\"\n",
        "\n",
        "# Indexing: Accessing individual characters\n",
        "first_char = my_string[0]        # 'H'\n",
        "second_char = my_string[1]       # 'e'\n",
        "last_char = my_string[-1]        # '!'\n",
        "second_last_char = my_string[-2]  # 'n'\n",
        "\n",
        "# Slicing: Extracting substrings\n",
        "substring1 = my_string[7:13]     # 'Python'\n",
        "substring2 = my_string[2:]       # 'llo, Python!'\n",
        "substring3 = my_string[:5]       # 'Hello'\n",
        "substring4 = my_string[-7:-1]    # ' Python'\n",
        "\n",
        "# Attempt to modify a character (strings are immutable)\n",
        "# This line will result in an error\n",
        "# my_string[0] = 'M'\n",
        "\n",
        "# Concatenation: Creating a new string by combining strings\n",
        "new_string = my_string + \" Welcome!\"  # 'Hello, Python! Welcome!'\n",
        "\n",
        "# Multiplication: Repeating a string\n",
        "repeated_string = \"ABC\" * 3  # 'ABCABCABC'\n",
        "\n",
        "# Comparing strings\n",
        "string1 = \"apple\"\n",
        "string2 = \"banana\"\n",
        "\n",
        "# Comparing for equality\n",
        "is_equal = (string1 == string2)  # False\n",
        "\n",
        "# Comparing lexicographically\n",
        "is_less = (string1 < string2)    # True\n",
        "\n",
        "# Using 'in' operator to check substring existence\n",
        "contains = \"app\" in string1      # True\n",
        "\n",
        "# Using 'not in' operator to check substring absence\n",
        "not_contains = \"orange\" not in string2  # True\n",
        "\n",
        "# Print the results\n",
        "print(\"Indexing:\")\n",
        "print(first_char, second_char, last_char, second_last_char)\n",
        "print(\"\\nSlicing:\")\n",
        "print(substring1, substring2, substring3, substring4)\n",
        "print(\"\\nConcatenation:\")\n",
        "print(new_string)\n",
        "print(\"\\nMultiplication:\")\n",
        "print(repeated_string)\n",
        "print(\"\\nString Comparison:\")\n",
        "print(\"Are strings equal?\", is_equal)\n",
        "print(\"Is string1 less than string2?\", is_less)\n",
        "print(\"\\nSubstring Existence Check:\")\n",
        "print(\"Does 'app' exist in string1?\", contains)\n",
        "print(\"Is 'orange' absent in string2?\", not_contains)\n"
      ],
      "metadata": {
        "id": "4_HuzyJQ3S0W"
      },
      "execution_count": null,
      "outputs": []
    },
    {
      "cell_type": "markdown",
      "source": [
        "## **Iterating Through Strings:**\n",
        "\n",
        "\n",
        "You can iterate through strings using loops, such as for char in my_string.\n",
        "This allows you to process each character in the string."
      ],
      "metadata": {
        "id": "5gXsPsiP56aI"
      }
    },
    {
      "cell_type": "code",
      "source": [
        "# Define a sample string\n",
        "my_string = \"Hello, Python!\"\n",
        "\n",
        "# Using a for loop to iterate through the string\n",
        "for char in my_string:\n",
        "    print(char, end=' ')  # Print each character separated by a space\n",
        "\n",
        "# Using enumerate to access both character and index\n",
        "print(\"\\nUsing enumerate:\")\n",
        "for index, char in enumerate(my_string):\n",
        "    print(f\"Character '{char}' at index {index}\")\n",
        "\n",
        "# Using a while loop to iterate through the string\n",
        "print(\"Using a while loop:\")\n",
        "index = 0\n",
        "while index < len(my_string):\n",
        "    print(my_string[index], end=' ')\n",
        "    index += 1\n"
      ],
      "metadata": {
        "colab": {
          "base_uri": "https://localhost:8080/"
        },
        "id": "1N0yMJIF6Ihl",
        "outputId": "ac4aa431-3511-42e7-cc0a-e2d7372f6fc3"
      },
      "execution_count": null,
      "outputs": [
        {
          "output_type": "stream",
          "name": "stdout",
          "text": [
            "H e l l o ,   P y t h o n ! \n",
            "Using enumerate:\n",
            "Character 'H' at index 0\n",
            "Character 'e' at index 1\n",
            "Character 'l' at index 2\n",
            "Character 'l' at index 3\n",
            "Character 'o' at index 4\n",
            "Character ',' at index 5\n",
            "Character ' ' at index 6\n",
            "Character 'P' at index 7\n",
            "Character 'y' at index 8\n",
            "Character 't' at index 9\n",
            "Character 'h' at index 10\n",
            "Character 'o' at index 11\n",
            "Character 'n' at index 12\n",
            "Character '!' at index 13\n",
            "Using a while loop:\n",
            "H e l l o ,   P y t h o n ! "
          ]
        }
      ]
    },
    {
      "cell_type": "markdown",
      "source": [
        "## **Concatenating and Multiplying Strings:**\n",
        "\n",
        "* Strings can be concatenated using the + operator (e.g., result = string1 + string2).\n",
        "* You can multiply strings to repeat them (e.g., repeated = \"A\" * 3)."
      ],
      "metadata": {
        "id": "9KALz_5Y6Pt1"
      }
    },
    {
      "cell_type": "code",
      "source": [
        "# Define two strings\n",
        "string1 = \"Hello, \"\n",
        "string2 = \"Python!\"\n",
        "\n",
        "# Concatenation: Creating a new string by combining strings\n",
        "result_concatenation = string1 + string2\n",
        "\n",
        "# Multiplication: Repeating a string\n",
        "repeated_string = \"ABC\" * 3\n",
        "\n",
        "# Print the results\n",
        "print(\"Concatenation:\")\n",
        "print(result_concatenation)\n",
        "\n",
        "print(\"\\nMultiplication:\")\n",
        "print(repeated_string)\n"
      ],
      "metadata": {
        "colab": {
          "base_uri": "https://localhost:8080/"
        },
        "id": "sLjYlkfK6sXB",
        "outputId": "38926c2e-a0d1-48fa-abae-76bcb259a77e"
      },
      "execution_count": null,
      "outputs": [
        {
          "output_type": "stream",
          "name": "stdout",
          "text": [
            "Concatenation:\n",
            "Hello, Python!\n",
            "\n",
            "Multiplication:\n",
            "ABCABCABC\n"
          ]
        }
      ]
    },
    {
      "cell_type": "markdown",
      "source": [
        "## **Comparing Strings:**\n",
        "\n",
        "* You can compare strings for equality (e.g., string1 == string2) or use comparison operators (<, >, <=, >=) to compare strings lexicographically.\n",
        "* Comparing strings against numbers may require type conversion."
      ],
      "metadata": {
        "id": "RpK8vZc8647s"
      }
    },
    {
      "cell_type": "code",
      "source": [
        "# Define two strings for comparison\n",
        "string1 = \"apple\"\n",
        "string2 = \"banana\"\n",
        "\n",
        "# Comparing for equality\n",
        "is_equal = (string1 == string2)\n",
        "\n",
        "# Comparing lexicographically (based on ASCII values)\n",
        "is_less = (string1 < string2)\n",
        "is_greater = (string1 > string2)\n",
        "\n",
        "# Print the comparison results\n",
        "print(f\"Are strings equal? {is_equal}\")\n",
        "print(f\"Is string1 less than string2? {is_less}\")\n",
        "print(f\"Is string1 greater than string2? {is_greater}\")\n"
      ],
      "metadata": {
        "colab": {
          "base_uri": "https://localhost:8080/"
        },
        "id": "U8opwX0P7FS-",
        "outputId": "47e01407-a6da-46e6-b51e-8a2a83f42b61"
      },
      "execution_count": null,
      "outputs": [
        {
          "output_type": "stream",
          "name": "stdout",
          "text": [
            "Are strings equal? False\n",
            "Is string1 less than string2? True\n",
            "Is string1 greater than string2? False\n"
          ]
        }
      ]
    },
    {
      "cell_type": "markdown",
      "source": [
        "## **in and not in Operators:**\n",
        "\n",
        "* The in operator checks if a substring exists within a string (e.g., 'abc' in 'abcdef' returns True).\n",
        "* The not in operator checks if a substring does not exist within a string (e.g., 'xyz' not in 'abcdef' returns True)."
      ],
      "metadata": {
        "id": "m5851YaS7Omc"
      }
    },
    {
      "cell_type": "code",
      "source": [
        "# Define a sample string\n",
        "my_string = \"Hello, Python!\"\n",
        "\n",
        "# Check if a substring exists in the string using 'in'\n",
        "substring1 = \"Python\" in my_string  # True\n",
        "substring2 = \"Java\" in my_string    # False\n",
        "\n",
        "# Check if a substring does not exist in the string using 'not in'\n",
        "substring3 = \"world\" not in my_string     # True\n",
        "substring4 = \"Hello\" not in my_string     # False\n",
        "\n",
        "# Print the results\n",
        "print(f\"'Python' exists in the string: {substring1}\")\n",
        "print(f\"'Java' exists in the string: {substring2}\")\n",
        "print(f\"'world' does not exist in the string: {substring3}\")\n",
        "print(f\"'Hello' does not exist in the string: {substring4}\")\n"
      ],
      "metadata": {
        "colab": {
          "base_uri": "https://localhost:8080/"
        },
        "id": "-rqp7fb_7ZvC",
        "outputId": "3b59ccaf-ee0a-4ec4-8f61-cd99b583dd3b"
      },
      "execution_count": null,
      "outputs": [
        {
          "output_type": "stream",
          "name": "stdout",
          "text": [
            "'Python' exists in the string: True\n",
            "'Java' exists in the string: False\n",
            "'world' does not exist in the string: True\n",
            "'Hello' does not exist in the string: False\n"
          ]
        }
      ]
    },
    {
      "cell_type": "markdown",
      "source": [
        "# **Employing Built-in String Methods**"
      ],
      "metadata": {
        "id": "9BKW9Mhw9cD8"
      }
    },
    {
      "cell_type": "markdown",
      "source": [
        "## **String Methods with .isxxx():**\n",
        "\n",
        "* String methods like .isalnum(), .isalpha(), .isdigit(), .islower(), .isupper(), and .isspace() are used to check if the string meets specific criteria (e.g., alphanumeric, alphabetical, digits-only, lowercase, uppercase, or contains only whitespace).\n",
        "\n",
        "Example:"
      ],
      "metadata": {
        "id": "m-ubtVdM9rUV"
      }
    },
    {
      "cell_type": "code",
      "source": [
        "text = \"abc123\"\n",
        "is_alnum = text.isalnum()  # True\n",
        "is_alpha = text.isalpha()  # False\n",
        "print(is_alnum)\n",
        "print(is_alpha)"
      ],
      "metadata": {
        "colab": {
          "base_uri": "https://localhost:8080/"
        },
        "id": "MyNoWdQF9axG",
        "outputId": "fa31711c-aa75-48eb-bca4-91f2e6178727"
      },
      "execution_count": null,
      "outputs": [
        {
          "output_type": "stream",
          "name": "stdout",
          "text": [
            "True\n",
            "False\n"
          ]
        }
      ]
    },
    {
      "cell_type": "markdown",
      "source": [
        "## **.join() Method:**\n",
        "\n",
        "* The .join() method is used to concatenate a sequence of strings with a delimiter.\n",
        "\n",
        "Example:"
      ],
      "metadata": {
        "id": "v1sdISDX9-Ky"
      }
    },
    {
      "cell_type": "code",
      "source": [
        "words = [\"Hello\", \"Python\", \"World\"]\n",
        "joined_text = \" | \".join(words)  # 'Hello | Python | World'\n",
        "print(joined_text)"
      ],
      "metadata": {
        "colab": {
          "base_uri": "https://localhost:8080/"
        },
        "id": "bX4Y66Mf-GOx",
        "outputId": "42ae710b-3642-485f-d3c3-19cb243ba92c"
      },
      "execution_count": null,
      "outputs": [
        {
          "output_type": "stream",
          "name": "stdout",
          "text": [
            "Hello | Python | World\n"
          ]
        }
      ]
    },
    {
      "cell_type": "markdown",
      "source": [
        "## **.split() Method:**\n",
        "\n",
        "* The .split() method is used to split a string into a list of substrings based on a delimiter.\n",
        "\n",
        "Example:"
      ],
      "metadata": {
        "id": "XsW_Gsbg-MEt"
      }
    },
    {
      "cell_type": "code",
      "source": [
        "text = \"apple,banana,cherry\"\n",
        "fruits = text.split(\",\")  # ['apple', 'banana', 'cherry']\n",
        "print(fruits)"
      ],
      "metadata": {
        "colab": {
          "base_uri": "https://localhost:8080/"
        },
        "id": "soswJLyR-TFd",
        "outputId": "d33ee465-e25d-4419-a42c-9d356ec234ea"
      },
      "execution_count": null,
      "outputs": [
        {
          "output_type": "stream",
          "name": "stdout",
          "text": [
            "['apple', 'banana', 'cherry']\n"
          ]
        }
      ]
    },
    {
      "cell_type": "markdown",
      "source": [
        "## **.sort() and sorted() Methods:**\n",
        "\n",
        "* The .sort() method is used to sort characters within a string alphabetically.\n",
        "* The sorted() function is used to sort a string as a list of characters and return the sorted result.\n",
        "\n",
        "Example:"
      ],
      "metadata": {
        "id": "7_3sLVL7-Zvt"
      }
    },
    {
      "cell_type": "code",
      "source": [
        "text = \"zyxwvu\"\n",
        "sorted_text = \"\".join(sorted(text))  # 'uvwxyz'\n",
        "print(sorted_text)"
      ],
      "metadata": {
        "colab": {
          "base_uri": "https://localhost:8080/"
        },
        "id": "LLMkVAJl-o-G",
        "outputId": "af772606-63c8-407d-de40-5a3e067c1f41"
      },
      "execution_count": null,
      "outputs": [
        {
          "output_type": "stream",
          "name": "stdout",
          "text": [
            "uvwxyz\n"
          ]
        }
      ]
    },
    {
      "cell_type": "markdown",
      "source": [
        "## **.index() and .find() Methods:**\n",
        "\n",
        "* The .index() method returns the index of the first occurrence of a substring in the string, raising an exception if not found.\n",
        "*The .find() method returns the index of the first occurrence of a substring in the string, returning -1 if not found.\n",
        "\n",
        "Example:"
      ],
      "metadata": {
        "id": "1-RWINUZ-u9U"
      }
    },
    {
      "cell_type": "code",
      "source": [
        "text = \"Hello, Python!\"\n",
        "index = text.index(\"Python\")  # 7\n",
        "found = text.find(\"Java\")     # -1\n",
        "print(index)\n",
        "print(found)"
      ],
      "metadata": {
        "colab": {
          "base_uri": "https://localhost:8080/"
        },
        "id": "RnY8IJNj-221",
        "outputId": "fd493930-9556-4b91-a622-6e81b6152c18"
      },
      "execution_count": null,
      "outputs": [
        {
          "output_type": "stream",
          "name": "stdout",
          "text": [
            "7\n",
            "-1\n"
          ]
        }
      ]
    },
    {
      "cell_type": "markdown",
      "source": [
        "## **.rfind() Method:**\n",
        "\n",
        "* The .rfind() method is similar to .find() but searches for the last occurrence of a substring in the string.\n",
        "\n",
        "Example:"
      ],
      "metadata": {
        "id": "PTwHImz6-_wT"
      }
    },
    {
      "cell_type": "code",
      "source": [
        "text = \"apple banana apple cherry apple\"\n",
        "last_index = text.rfind(\"apple\")  # 26\n",
        "print(last_index)"
      ],
      "metadata": {
        "colab": {
          "base_uri": "https://localhost:8080/"
        },
        "id": "6WVAcxCM_I1B",
        "outputId": "8cb0d0d4-56f3-41f6-dc6c-af652f9b5b93"
      },
      "execution_count": null,
      "outputs": [
        {
          "output_type": "stream",
          "name": "stdout",
          "text": [
            "26\n"
          ]
        }
      ]
    }
  ]
}